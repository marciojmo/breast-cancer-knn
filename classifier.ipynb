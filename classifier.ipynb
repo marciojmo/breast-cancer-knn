{
 "cells": [
  {
   "cell_type": "code",
   "execution_count": 6,
   "metadata": {},
   "outputs": [],
   "source": [
    "from sklearn.neighbors import KNeighborsClassifier\n",
    "from sklearn.model_selection import train_test_split\n",
    "from sklearn.preprocessing import MinMaxScaler, StandardScaler\n",
    "import pandas as pd\n",
    "import matplotlib.pyplot as plt\n",
    "import numpy as np"
   ]
  },
  {
   "cell_type": "code",
   "execution_count": 7,
   "metadata": {},
   "outputs": [
    {
     "data": {
      "text/html": [
       "<div>\n",
       "<style scoped>\n",
       "    .dataframe tbody tr th:only-of-type {\n",
       "        vertical-align: middle;\n",
       "    }\n",
       "\n",
       "    .dataframe tbody tr th {\n",
       "        vertical-align: top;\n",
       "    }\n",
       "\n",
       "    .dataframe thead th {\n",
       "        text-align: right;\n",
       "    }\n",
       "</style>\n",
       "<table border=\"1\" class=\"dataframe\">\n",
       "  <thead>\n",
       "    <tr style=\"text-align: right;\">\n",
       "      <th></th>\n",
       "      <th>mean_radius</th>\n",
       "      <th>mean_texture</th>\n",
       "      <th>mean_perimeter</th>\n",
       "      <th>mean_area</th>\n",
       "      <th>mean_smoothness</th>\n",
       "      <th>diagnosis</th>\n",
       "    </tr>\n",
       "  </thead>\n",
       "  <tbody>\n",
       "    <tr>\n",
       "      <th>0</th>\n",
       "      <td>17.99</td>\n",
       "      <td>10.38</td>\n",
       "      <td>122.80</td>\n",
       "      <td>1001.0</td>\n",
       "      <td>0.11840</td>\n",
       "      <td>0</td>\n",
       "    </tr>\n",
       "    <tr>\n",
       "      <th>1</th>\n",
       "      <td>20.57</td>\n",
       "      <td>17.77</td>\n",
       "      <td>132.90</td>\n",
       "      <td>1326.0</td>\n",
       "      <td>0.08474</td>\n",
       "      <td>0</td>\n",
       "    </tr>\n",
       "    <tr>\n",
       "      <th>2</th>\n",
       "      <td>19.69</td>\n",
       "      <td>21.25</td>\n",
       "      <td>130.00</td>\n",
       "      <td>1203.0</td>\n",
       "      <td>0.10960</td>\n",
       "      <td>0</td>\n",
       "    </tr>\n",
       "    <tr>\n",
       "      <th>3</th>\n",
       "      <td>11.42</td>\n",
       "      <td>20.38</td>\n",
       "      <td>77.58</td>\n",
       "      <td>386.1</td>\n",
       "      <td>0.14250</td>\n",
       "      <td>0</td>\n",
       "    </tr>\n",
       "    <tr>\n",
       "      <th>4</th>\n",
       "      <td>20.29</td>\n",
       "      <td>14.34</td>\n",
       "      <td>135.10</td>\n",
       "      <td>1297.0</td>\n",
       "      <td>0.10030</td>\n",
       "      <td>0</td>\n",
       "    </tr>\n",
       "  </tbody>\n",
       "</table>\n",
       "</div>"
      ],
      "text/plain": [
       "   mean_radius  mean_texture  mean_perimeter  mean_area  mean_smoothness  \\\n",
       "0        17.99         10.38          122.80     1001.0          0.11840   \n",
       "1        20.57         17.77          132.90     1326.0          0.08474   \n",
       "2        19.69         21.25          130.00     1203.0          0.10960   \n",
       "3        11.42         20.38           77.58      386.1          0.14250   \n",
       "4        20.29         14.34          135.10     1297.0          0.10030   \n",
       "\n",
       "   diagnosis  \n",
       "0          0  \n",
       "1          0  \n",
       "2          0  \n",
       "3          0  \n",
       "4          0  "
      ]
     },
     "execution_count": 7,
     "metadata": {},
     "output_type": "execute_result"
    }
   ],
   "source": [
    "# Loading and taking a look at the dataset\n",
    "data = pd.read_csv('./breast_cancer_data.csv')\n",
    "data.head()"
   ]
  },
  {
   "cell_type": "code",
   "execution_count": 8,
   "metadata": {},
   "outputs": [],
   "source": [
    "# Extracting features and targets\n",
    "x = data.loc[:, ~data.columns.isin(['diagnosis'])].values\n",
    "y = data['diagnosis']\n",
    "\n",
    "# Normalizing features using the Standard Scaler\n",
    "scaler = StandardScaler()\n",
    "x_normalized = scaler.fit_transform(x)"
   ]
  },
  {
   "cell_type": "code",
   "execution_count": 9,
   "metadata": {},
   "outputs": [
    {
     "data": {
      "image/png": "[encoded data removed]",
      "text/plain": [
       "<Figure size 432x288 with 1 Axes>"
      ]
     },
     "metadata": {
      "needs_background": "light"
     },
     "output_type": "display_data"
    },
    {
     "name": "stdout",
     "output_type": "stream",
     "text": [
      "Max accuracy is 0.9298245614035088 when k = 4\n"
     ]
    }
   ],
   "source": [
    "# Train-test splitting\n",
    "x_train, x_test, y_train, y_test = train_test_split( x_normalized, y, test_size=0.2, random_state=100 )\n",
    "\n",
    "# Classifing for a range of k values in order to check which k is best.\n",
    "k_list = range(1,101)\n",
    "accuracies = []\n",
    "for k in k_list:\n",
    "  classifier = KNeighborsClassifier(n_neighbors = k)\n",
    "  classifier.fit( x_train, y_train )\n",
    "  accuracies.append(classifier.score(x_test, y_test))\n",
    "\n",
    "# Plotting k vs Validation Accuracy\n",
    "plt.plot(k_list,accuracies)\n",
    "plt.xlabel(\"k\")\n",
    "plt.ylabel(\"Validation Accuracy\")\n",
    "plt.show()\n",
    "\n",
    "# Grabbing the best value for k\n",
    "max_accuracy = max(accuracies)\n",
    "max_accuracy_index = accuracies.index(max_accuracy)\n",
    "best_k = k_list[max_accuracy_index]\n",
    "print(f\"Max accuracy is {max_accuracy} when k = {best_k}\")"
   ]
  },
  {
   "cell_type": "code",
   "execution_count": 10,
   "metadata": {},
   "outputs": [
    {
     "name": "stdout",
     "output_type": "stream",
     "text": [
      "Test case:\n",
      "{'mean_radius': 10.724806738887603, 'mean_texture': 20.166606832988776, 'mean_perimeter': 154.38469780165033, 'mean_area': 176.61595114088126, 'mean_smoothness': 0.11982637067409546}\n",
      "\n",
      "This test indicates NEGATIVE for breast cancer with 92.98% accuracy.\n"
     ]
    }
   ],
   "source": [
    "# Retraining the model with the best k value\n",
    "classifier = KNeighborsClassifier( n_neighbors = best_k )\n",
    "classifier.fit( x_train, y_train )\n",
    "accuracy_pct = classifier.score( x_test, y_test ) * 100\n",
    "\n",
    "# Generating a random test case using the dataset values\n",
    "features = [k for k in data.keys() if k != 'diagnosis']\n",
    "test = np.array( [ np.random.uniform( data.min()[f], data.max()[f] ) for f in features ] )\n",
    "\n",
    "# Printing out the test case\n",
    "print(\"Test case:\")\n",
    "print( dict( zip( features, test ) ) )\n",
    "print()\n",
    "\n",
    "# Normalizing the test case and predicting the result class\n",
    "test_normalized = scaler.transform( test.reshape( -1, len(test) ) )\n",
    "test_diagnosis = classifier.predict( test_normalized )\n",
    "\n",
    "# Printing out the test result\n",
    "test_diagnosis_label = [\"NEGATIVE\", \"POSITIVE\"]\n",
    "print(f\"This test indicates {test_diagnosis_label[test_diagnosis[0]]} for breast cancer with {accuracy_pct:.2f}% accuracy.\")"
   ]
  }
 ],
 "metadata": {
  "interpreter": {
   "hash": "5c799d2d9f16674e3cfee1b42b77a314c7c8537fa29f38691fc1e35f735c579b"
  },
  "kernelspec": {
   "display_name": "Python 3.8.10 64-bit ('env': venv)",
   "name": "python3"
  },
  "language_info": {
   "codemirror_mode": {
    "name": "ipython",
    "version": 3
   },
   "file_extension": ".py",
   "mimetype": "text/x-python",
   "name": "python",
   "nbconvert_exporter": "python",
   "pygments_lexer": "ipython3",
   "version": "3.8.10"
  },
  "orig_nbformat": 4
 },
 "nbformat": 4,
 "nbformat_minor": 2
}
